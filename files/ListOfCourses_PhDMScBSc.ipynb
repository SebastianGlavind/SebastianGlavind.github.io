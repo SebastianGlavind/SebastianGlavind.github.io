{
 "cells": [
  {
   "cell_type": "markdown",
   "id": "c90f1f4d-6c91-4f12-a7c4-0a6301b09f87",
   "metadata": {},
   "source": [
    "List of PhD, MSc, and BSc courses\n",
    "==="
   ]
  },
  {
   "cell_type": "markdown",
   "id": "a6191a61-f2cb-4d3e-8b42-67d7afed4f87",
   "metadata": {},
   "source": [
    "PhD courses\n",
    "---\n",
    "\n",
    "|**Course**                                                   | **Organizer*** | **ECTS** |\n",
    "|:--------------------------------------------------------|:----------:|-----:|\n",
    "|Decision Theory  |DTU\t       |5.0   |\n",
    "|Bayesian Data Analysis |DTU   |5.0   |\n",
    "|Uncertainty and Sensitivity Analysis of Numerical Models |DTU         |7.5   |\n",
    "|Summer School on Graphical Models                        |DTU\t       |3.0   |\n",
    "|Stochastic Simulation                                    |DTU\t       |5.0   |\n",
    "|Academic Writing course by Natalie Reid\t              |DTU\t       |-     |\n",
    "|Bayesian Scientific Computing\t                          |DTU\t       |2.5   |\n",
    "|Reliability and Risk Analysis of Wind Turbines\t          |AAU\t       |3.0   |\n",
    "|Introduction to the PhD Study (mandatory at AAU)\t      |AAU\t       |1.0   |\n",
    "|Writing Boot Camp                                        |AAU         |-     |\n",
    "|                   \t                                  |**Sum**     |**32.0**  |\n",
    " \\* *DTU is an acronym for Technical University of Denmark,<br /> and AAU is an acronym for Aalborg University*."
   ]
  },
  {
   "cell_type": "markdown",
   "id": "8f7af6c5-e210-4510-8994-0b1eab4b3949",
   "metadata": {},
   "source": [
    "MSc courses\n",
    "---\n",
    "\n",
    "|**Course**                                                   | **Organizer*** | **ECTS** |\n",
    "|:--------------------------------------------------------|:----------:|-----:|\n",
    "|Applied Mathematics 1\t|AU\t|5.0 |\n",
    "|Applied Mathematics 2\t|AU\t|5.0 |\n",
    "|Numerical Analysis in Civil Engineering |AU\t|5.0 |\n",
    "|Project 2 – Architectural Engineering |AU\t|10.0 |\n",
    "|Risk and Reliability Engineering |AU\t|5.0 |\n",
    "|Concrete Structures |AU\t|5.0 |\n",
    "|Structural Dynamics |AU |5.0 |\n",
    "|Experimental Dynamics |AU |5.0 |\n",
    "|Mechanics – Theory of Plasticity |AU |5.0 |\n",
    "|Steel Structures |AU |5.0 |\n",
    "|Statistics and Data Reduction |AU |5.0 |\n",
    "|FEM Bearing Constructions |AU |5.0 |\n",
    "|Modal Testing |AU |5.0 |\n",
    "|Wave Hydrodynamics |AU |5.0 |\n",
    "|Study Group on Fluid Dynamics |AU |- |\n",
    "|Project 3 – R&D Project in Civil Engineering:<br />*Vibration-based Identification of Mass Changes using Statistical Learning Theory* |AU |15.0 |\n",
    "|MSc Thesis in Civil and Architectural Engineering:<br />*Vibration-based Identification of Mass Changes using Statistical Learning Theory* |AU |30.0 |\n",
    "| |\t**Sum**\t|**120.0** |\n",
    " \\* *AU is an acronym for Aarhus University.*"
   ]
  },
  {
   "cell_type": "markdown",
   "id": "811caff7-9ec1-4e82-8e70-b35020524b23",
   "metadata": {},
   "source": [
    "BSc courses\n",
    "---\n",
    "\n",
    "|**Course**                                                   | **Organizer*** | **ECTS** |\n",
    "|:--------------------------------------------------------|:----------:|-----:|\n",
    "|Housing Construction |AU |14.0 |\n",
    "|Mathematics, Physics, and Material Science |AU |7.0 |\n",
    "|Lab - Constructions |AU |- |\n",
    "|Studying Techniques, History of Engineering, and Ethics |AU |2.0 |\n",
    "|Geology and Environmental Science |AU |14.0 |\n",
    "|Lab - Surveying |AU |- |\n",
    "|Mechanics of Materials and Fluids, and Mathematics |AU |23.0 |\n",
    "|Lab - Lab Practice |AU |- |\n",
    "|Load-bearing Constructions |AU |7.0 |\n",
    "|Technical Installations and Resources |AU |11.0 |\n",
    "|Construction Management and Law, and Project |AU |9.0 |\n",
    "|Mathematics - Finite Element Method |AU |3.0 |\n",
    "|Lab - Piping |AU |- |\n",
    "|Construction Maturation |AU |8.0 |\n",
    "|Concrete Structures |AU |7.0 |\n",
    "|Foundations and geotechnics |AU |7.0 |\n",
    "|Main Supply Chains |AU |5.0 |\n",
    "|Preparation for Internship |AU |3.0 |\n",
    "|Internship - Per Aarsleff |AU |30.0 |\n",
    "|Steel and Aluminum Structures |AU |5.0 |\n",
    "|Lab - Excursion |AU |2.5 |\n",
    "|Load-bearing Constructions 3 |AU |10.0 |\n",
    "|Geotechnical Support Structures |AU |5.0 |\n",
    "|Preparation for BSc Thesis |AU |5.0 |\n",
    "|Specialization Project - Load-bearing Constructions |AU |15.0 |\n",
    "|BSc Thesis in Civil and Structural Engineering:<br />*Analysis of Supported Retaining Wall, Bestseller Construction Pit, Aarhus Harbour* |AU |20.0 |\n",
    "| |\t**Sum**\t|**212.5** |\n",
    " \\* *AU is an acronym for Aarhus University.*"
   ]
  },
  {
   "cell_type": "markdown",
   "id": "0cf26dbc-e28a-481c-a49b-501f5a4336af",
   "metadata": {},
   "source": [
    "<br />\n",
    "Prior to studying structural engineering, I studied Economics and Management at Aarhus University for one year. Below you find a list of completed courses.\n",
    "\n",
    "|**Course**                                                   | **Organizer*** | **ECTS** |\n",
    "|:--------------------------------------------------------|:----------:|-----:|\n",
    "|Introduction to Economics |AU |5.0 |\n",
    "|Introduction to Statistics |AU |5.0 |\n",
    "|National Economy |AU |10.0 |\n",
    "|Corporate Organization |AU |10.0 |\n",
    "|Marketing and Strategy |AU |10.0 |\n",
    "|Applied Statistics |AU |5.0 |\n",
    "|Accounting |AU |10.0 |\n",
    "|Theory of Science |AU |5.0 |\n",
    "| |\t**Sum**\t|60.0 |\n",
    " \\* *AU is an acronym for Aarhus University.*"
   ]
  }
 ],
 "metadata": {
  "kernelspec": {
   "display_name": "Python 3",
   "language": "python",
   "name": "python3"
  },
  "language_info": {
   "codemirror_mode": {
    "name": "ipython",
    "version": 3
   },
   "file_extension": ".py",
   "mimetype": "text/x-python",
   "name": "python",
   "nbconvert_exporter": "python",
   "pygments_lexer": "ipython3",
   "version": "3.7.6"
  }
 },
 "nbformat": 4,
 "nbformat_minor": 5
}
