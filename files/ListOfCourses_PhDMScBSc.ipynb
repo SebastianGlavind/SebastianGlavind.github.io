{
 "cells": [
  {
   "cell_type": "markdown",
   "id": "c90f1f4d-6c91-4f12-a7c4-0a6301b09f87",
   "metadata": {},
   "source": [
    "PhD courses\n",
    "===\n",
    "\n",
    "| Syntax      | Description | des  |\n",
    "| :---------- | :---------: | ---: |\n",
    "| Header      | Title       | -    |\n",
    "| Paragraph   | Text        | -    |"
   ]
  }
 ],
 "metadata": {
  "kernelspec": {
   "display_name": "Python 3",
   "language": "python",
   "name": "python3"
  },
  "language_info": {
   "codemirror_mode": {
    "name": "ipython",
    "version": 3
   },
   "file_extension": ".py",
   "mimetype": "text/x-python",
   "name": "python",
   "nbconvert_exporter": "python",
   "pygments_lexer": "ipython3",
   "version": "3.7.6"
  }
 },
 "nbformat": 4,
 "nbformat_minor": 5
}
