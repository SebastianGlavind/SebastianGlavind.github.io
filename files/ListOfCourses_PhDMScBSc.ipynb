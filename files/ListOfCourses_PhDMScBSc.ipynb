{
 "cells": [
  {
   "cell_type": "markdown",
   "id": "c90f1f4d-6c91-4f12-a7c4-0a6301b09f87",
   "metadata": {},
   "source": [
    "List of PhD, MSc, and BSc courses\n",
    "==="
   ]
  },
  {
   "cell_type": "markdown",
   "id": "a6191a61-f2cb-4d3e-8b42-67d7afed4f87",
   "metadata": {},
   "source": [
    "PhD courses\n",
    "---\n",
    "\n",
    "|**Course**                                                   | **Organizer** | **ECTS** |\n",
    "|:--------------------------------------------------------|:----------:|-----:|\n",
    "|Decision Theory  |Technical University of Denmark |5.0   |\n",
    "|Bayesian Data Analysis |Technical University of Denmark |5.0   |\n",
    "|Uncertainty and Sensitivity Analysis of Numerical Models |Technical University of Denmark |7.5   |\n",
    "|Summer School on Graphical Models                        |Technical University of Denmark |3.0   |\n",
    "|Stochastic Simulation                                    |Technical University of Denmark |5.0   |\n",
    "|Academic Writing course by Natalie Reid\t              |Technical University of Denmark |-     |\n",
    "|Bayesian Scientific Computing\t                          |Technical University of Denmark |2.5   |\n",
    "|Reliability and Risk Analysis of Wind Turbines\t          |Aalborg University |3.0   |\n",
    "|Introduction to the PhD Study (mandatory at AAU)\t      |Aalborg University |1.0   |\n",
    "|Writing Boot Camp                                        |Aalborg University |-     |\n",
    "|                   \t                                  |**Sum**     |**32.0**  |"
   ]
  },
  {
   "cell_type": "markdown",
   "id": "8f7af6c5-e210-4510-8994-0b1eab4b3949",
   "metadata": {},
   "source": [
    "MSc courses\n",
    "---\n",
    "\n",
    "|**Course**                                                   | **Organizer** | **ECTS** |\n",
    "|:--------------------------------------------------------|:----------:|-----:|\n",
    "|Applied Mathematics 1\t|Aarhus University\t|5.0 |\n",
    "|Applied Mathematics 2\t|Aarhus University\t|5.0 |\n",
    "|Numerical Analysis in Civil Engineering |Aarhus University\t|5.0 |\n",
    "|Project 2 – Architectural Engineering |Aarhus University\t|10.0 |\n",
    "|Risk and Reliability Engineering |Aarhus University\t|5.0 |\n",
    "|Concrete Structures |Aarhus University\t|5.0 |\n",
    "|Structural Dynamics |Aarhus University |5.0 |\n",
    "|Experimental Dynamics |Aarhus University |5.0 |\n",
    "|Mechanics – Theory of Plasticity |Aarhus University |5.0 |\n",
    "|Steel Structures |Aarhus University |5.0 |\n",
    "|Statistics and Data Reduction |Aarhus University |5.0 |\n",
    "|FEM Bearing Constructions |Aarhus University |5.0 |\n",
    "|Modal Testing |Aarhus University |5.0 |\n",
    "|Wave Hydrodynamics |Aarhus University |5.0 |\n",
    "|Study Group on Fluid Dynamics |Aarhus University |- |\n",
    "|Project 3 – R&D Project in Civil Engineering:<br />*Vibration-based Identification of Mass Changes using Statistical Learning Theory* |Aarhus University |15.0 |\n",
    "|MSc Thesis in Civil and Architectural Engineering:<br />*Vibration-based Identification of Mass Changes using Statistical Learning Theory* |Aarhus University |30.0 |\n",
    "| |\t**Sum**\t|**120.0** |"
   ]
  },
  {
   "cell_type": "markdown",
   "id": "811caff7-9ec1-4e82-8e70-b35020524b23",
   "metadata": {},
   "source": [
    "BSc courses\n",
    "---\n",
    "\n",
    "|**Course**                                                   | **Organizer** | **ECTS** |\n",
    "|:--------------------------------------------------------|:----------:|-----:|\n",
    "|Housing Construction |Aarhus University |14.0 |\n",
    "|Mathematics, Physics, and Material Science |Aarhus University |7.0 |\n",
    "|Lab - Constructions |Aarhus University |- |\n",
    "|Studying Techniques, History of Engineering, and Ethics |Aarhus University |2.0 |\n",
    "|Geology and Environmental Science |Aarhus University |14.0 |\n",
    "|Lab - Surveying |Aarhus University |- |\n",
    "|Mechanics of Materials and Fluids, and Mathematics |Aarhus University |23.0 |\n",
    "|Lab - Lab Practice |Aarhus University |- |\n",
    "|Load-bearing Constructions |Aarhus University |7.0 |\n",
    "|Technical Installations and Resources |Aarhus University |11.0 |\n",
    "|Construction Management and Law, and Project |Aarhus University |9.0 |\n",
    "|Mathematics - Finite Element Method |Aarhus University |3.0 |\n",
    "|Lab - Piping |Aarhus University |- |\n",
    "|Construction Maturation |Aarhus University |8.0 |\n",
    "|Concrete Structures |Aarhus University |7.0 |\n",
    "|Foundations and geotechnics |Aarhus University |7.0 |\n",
    "|Main Supply Chains |Aarhus University |5.0 |\n",
    "|Preparation for Internship |Aarhus University |3.0 |\n",
    "|Internship - Per Aarsleff |Aarhus University |30.0 |\n",
    "|Steel and Aluminum Structures |Aarhus University |5.0 |\n",
    "|Lab - Excursion |Aarhus University |2.5 |\n",
    "|Load-bearing Constructions 3 |Aarhus University |10.0 |\n",
    "|Geotechnical Support Structures |Aarhus University |5.0 |\n",
    "|Preparation for BSc Thesis |Aarhus University |5.0 |\n",
    "|Specialization Project - Load-bearing Constructions |Aarhus University |15.0 |\n",
    "|BSc Thesis in Civil and Structural Engineering:<br />*Analysis of Supported Retaining Wall, Bestseller Construction Pit, Aarhus Harbour* |Aarhus University |20.0 |\n",
    "| |\t**Sum**\t|**212.5** |"
   ]
  },
  {
   "cell_type": "markdown",
   "id": "0cf26dbc-e28a-481c-a49b-501f5a4336af",
   "metadata": {},
   "source": [
    "<br />\n",
    "Prior to studying structural engineering, I studied Economics and Management at Aarhus University for one year. Below you find a list of completed courses.\n",
    "\n",
    "|**Course**                                                   | **Organizer** | **ECTS** |\n",
    "|:--------------------------------------------------------|:----------:|-----:|\n",
    "|Introduction to Economics |Aarhus University |5.0 |\n",
    "|Introduction to Statistics |Aarhus University |5.0 |\n",
    "|National Economy |Aarhus University |10.0 |\n",
    "|Corporate Organization |Aarhus University |10.0 |\n",
    "|Marketing and Strategy |Aarhus University |10.0 |\n",
    "|Applied Statistics |Aarhus University |5.0 |\n",
    "|Accounting |Aarhus University |10.0 |\n",
    "|Theory of Science |Aarhus University |5.0 |\n",
    "| |\t**Sum**\t|60.0 |"
   ]
  }
 ],
 "metadata": {
  "kernelspec": {
   "display_name": "Python 3",
   "language": "python",
   "name": "python3"
  },
  "language_info": {
   "codemirror_mode": {
    "name": "ipython",
    "version": 3
   },
   "file_extension": ".py",
   "mimetype": "text/x-python",
   "name": "python",
   "nbconvert_exporter": "python",
   "pygments_lexer": "ipython3",
   "version": "3.7.6"
  }
 },
 "nbformat": 4,
 "nbformat_minor": 5
}
